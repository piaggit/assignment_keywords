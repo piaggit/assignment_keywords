{
 "cells": [
  {
   "cell_type": "code",
   "execution_count": 10,
   "id": "18a6bf50-760e-43a1-8024-d582855d8c0a",
   "metadata": {},
   "outputs": [
    {
     "name": "stdin",
     "output_type": "stream",
     "text": [
      "Enter a number 45\n"
     ]
    },
    {
     "name": "stdout",
     "output_type": "stream",
     "text": [
      "It is an odd number\n"
     ]
    }
   ],
   "source": [
    "#1.Explain the significance of Python keywords and provide examples of five keywords\n",
    "\n",
    "\n",
    "# Keywords are predefined words which are reserved for specific tasks and should not be used to define any variable. \n",
    "# Eg.: print, int, else, input, if\n",
    "\n",
    "a=int(input(\"Enter a number\"))\n",
    "if (a%2)==0: \n",
    "    print(\"It is an even number\")\n",
    "else: \n",
    "    print(\"It is an odd number\")\n",
    "    \n"
   ]
  },
  {
   "cell_type": "code",
   "execution_count": 11,
   "id": "452f3c11-e139-458a-932a-322798a1b571",
   "metadata": {},
   "outputs": [],
   "source": [
    "2. Describe the rules for defining identifiers in Python and provide an example\n",
    "Rules for defining identifiers:\n",
    "    1. It should start with letter only. (eg: planet=\"Earth\")\n",
    "    2. It should not start with numbers or special characters.(eg: 2digit=23)\n",
    "    3. It can have an underscore or a number after the letter,. (eg: first_planet==\"Mercury\")\n",
    "    4. It should not be a keyword. (like print, return, etc)\n",
    "    5. It should not have blank space in between. (like first planet) "
   ]
  },
  {
   "cell_type": "code",
   "execution_count": 15,
   "id": "26465ab7-bff1-432d-b26d-17b876feeabf",
   "metadata": {},
   "outputs": [
    {
     "name": "stdin",
     "output_type": "stream",
     "text": [
      "Enter a number 23\n"
     ]
    },
    {
     "name": "stdout",
     "output_type": "stream",
     "text": [
      "It is an odd number\n"
     ]
    }
   ],
   "source": [
    "# 3. What are comments in Python, and why are they useful? Provide an example\n",
    "\n",
    "# Comments are statements written under the hash (#). It makes the code more readable, it helps the coder to add some \n",
    "# definition or comments. It prevents the execution of the line on testing. \n",
    "\n",
    "a=int(input(\"Enter a number\"))\n",
    "if (a%2)==0: #It is the modulus operator \n",
    "    print(\"It is an even number\")\n",
    "else: \n",
    "    print(\"It is an odd number\")\n",
    "     "
   ]
  },
  {
   "cell_type": "code",
   "execution_count": null,
   "id": "e63e8deb-c5ba-4a61-a9b3-153ed13597cb",
   "metadata": {},
   "outputs": [],
   "source": [
    "4. Why is proper indentation important in Python?\n",
    "\n",
    "In Python, indentation used to define a block of code unlike other programming language where {} are used. \n",
    "It throws syntax error if it is not proper. "
   ]
  },
  {
   "cell_type": "code",
   "execution_count": 19,
   "id": "aaac2e64-913e-46da-81b2-9cd72429e897",
   "metadata": {},
   "outputs": [
    {
     "ename": "IndentationError",
     "evalue": "expected an indented block after 'if' statement on line 5 (2367481233.py, line 6)",
     "output_type": "error",
     "traceback": [
      "\u001b[0;36m  Cell \u001b[0;32mIn[19], line 6\u001b[0;36m\u001b[0m\n\u001b[0;31m    print (a)\u001b[0m\n\u001b[0m    ^\u001b[0m\n\u001b[0;31mIndentationError\u001b[0m\u001b[0;31m:\u001b[0m expected an indented block after 'if' statement on line 5\n"
     ]
    }
   ],
   "source": [
    "#5. What happens if indentation is incorrect in Python? \n",
    "# It throws a syntax error\n",
    "a=5\n",
    "b=6\n",
    "if (a>b):\n",
    "print (a)\n",
    "else: \n",
    "print(b)"
   ]
  },
  {
   "cell_type": "code",
   "execution_count": 23,
   "id": "0dc8b4c1-9dac-4bf1-ad7a-3b0227a42aca",
   "metadata": {},
   "outputs": [
    {
     "name": "stdout",
     "output_type": "stream",
     "text": [
      "10\n"
     ]
    }
   ],
   "source": [
    "a=5\n",
    "b=10\n",
    "if (a>b):\n",
    "    print (a)\n",
    "else: \n",
    "    print(b) #with proper identation is worked. "
   ]
  },
  {
   "cell_type": "code",
   "execution_count": 24,
   "id": "55611431-e016-4e2d-adbd-984fb63f3eb6",
   "metadata": {},
   "outputs": [],
   "source": [
    "6. Differentiate between expression and statement in Python with examples. \n",
    "Expression is a representation of a value. \n",
    " example: name= \"Priyanka\"\n",
    "wherease, Statement is an instruction to execute by the python interpreter.\n",
    " example: add= 5*6\n",
    "\n"
   ]
  },
  {
   "cell_type": "code",
   "execution_count": null,
   "id": "ba42e9f1-57a8-47bf-93c8-024bed4bbf7e",
   "metadata": {},
   "outputs": [],
   "source": []
  }
 ],
 "metadata": {
  "kernelspec": {
   "display_name": "Python 3 (ipykernel)",
   "language": "python",
   "name": "python3"
  },
  "language_info": {
   "codemirror_mode": {
    "name": "ipython",
    "version": 3
   },
   "file_extension": ".py",
   "mimetype": "text/x-python",
   "name": "python",
   "nbconvert_exporter": "python",
   "pygments_lexer": "ipython3",
   "version": "3.10.8"
  }
 },
 "nbformat": 4,
 "nbformat_minor": 5
}
